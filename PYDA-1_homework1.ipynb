{
 "cells": [
  {
   "cell_type": "code",
   "execution_count": null,
   "metadata": {},
   "outputs": [],
   "source": [
    "#1 сравниваем количество символов в предложениях\n",
    "phrase_1 = 'Насколько проще было бы писать программы, если бы не заказчики'\n",
    "phrase_2 = '640Кб должно хватить для любых задач. Билл Гейтс (по легенде)'\n",
    "if len(phrase_1)>len(phrase_2):\n",
    "    print ('Фраза 1 длиннее фразы 2')\n",
    "elif len(phrase_1)==len(phrase_2):\n",
    "    print ('Фразы равной длины')\n",
    "else:\n",
    "    print ('Фраза 2 длиннее фразы 1')"
   ]
  },
  {
   "cell_type": "code",
   "execution_count": null,
   "metadata": {},
   "outputs": [],
   "source": [
    "#2 определяем, высокосный год или нет\n",
    "print('Привет!Я умею моментально отгадывать, является ли год высокосным.')\n",
    "print('Проверь меня!')\n",
    "x = input ('Введи год ')\n",
    "x = int(x)\n",
    "if x % 4 == 0:\n",
    "    print(x, '- высокосный год')\n",
    "else:\n",
    "    print (x, '- не высокосный год')"
   ]
  },
  {
   "cell_type": "code",
   "execution_count": null,
   "metadata": {
    "scrolled": true
   },
   "outputs": [],
   "source": [
    "#3 по дате определяем знак зодиака\n",
    "print ('Давай угадаю твой знак зодиака!')\n",
    "date = int(input('Напиши дату рождения:'))\n",
    "month = int(input('Напиши месяц рождения:'))\n",
    "\n",
    "if (date>=21 and date<=31 and month==1) or( month==2 and date>=1 and date<=18):\n",
    "    print('Знак зодиака:Водолей')\n",
    "elif (date>=19 and date<=29 and month==2) or( month==3 and date>=1 and date<=20):\n",
    "    print ('Знак зодиака:Рыбы')\n",
    "elif (date>=21 and date<=31 and month==3) or( month==4 and date>=1 and date<=19):\n",
    "    print('Знак зодиака:Овен')\n",
    "elif (date>=20 and date<=30 and month==4) or( month==5 and date>=1 and date<=20):\n",
    "    print('Знак зодиака:Телец')\n",
    "elif (date>=21 and date<=31 and month==5) or( month==6 and date>=1 and date<=21):\n",
    "    print('Знак зодиака:Близнецы')\n",
    "elif (date>=22 and date<=30 and month==6) or( month==7 and date>=1 and date<=22):\n",
    "    print('Знак зодиака:Рак')\n",
    "elif (date>=23 and date<=31 and month==7) or( month==8 and date>=1 and date<=22):\n",
    "    print('Знак зодиака:Лев')\n",
    "elif (date>=23 and date<=31 and month==8) or( month==9 and date>=1 and date<=22):\n",
    "    print('Знак зодиака:Дева')\n",
    "elif (date>=23 and date<=30 and month==9) or( month==10 and date>=1 and date<=23):\n",
    "    print('Знак зодиака:Весы')\n",
    "elif (date>=24 and date<=31 and month==10) or( month==11 and date>=1 and date<=22):\n",
    "    print('Знак зодиака:Скорпион')\n",
    "elif (date>=23 and date<=30 and month==11) or( month==12 and date>=1 and date<=21):\n",
    "    print('Знак зодиака:Стрелец')\n",
    "elif (date>=22 and date<=31 and month==12) or( month==1 and date>=1 and date<=20):\n",
    "    print('Знак зодиака:Козерог')\n",
    "else:\n",
    "    print ('Ошибка ввода')\n"
   ]
  },
  {
   "cell_type": "code",
   "execution_count": null,
   "metadata": {},
   "outputs": [],
   "source": [
    "#4 подбираем размер упаковки\n",
    "width = int(input('Ширина:'))\n",
    "length = int(input('Длина:'))\n",
    "height = int(input('Высота:'))\n",
    "if width <15 and height <15 and length<15:\n",
    "    print ('Коробка №1')\n",
    "elif length>200:\n",
    "    print ('Коробка для лыж') \n",
    "elif (width >= 15 and width <= 50) and (height >=15 and height <=50) and (length>=15 and length <=50): \n",
    "    print ('Коробка №2')\n",
    "else:\n",
    "    print ('Стандартная коробка №3')"
   ]
  },
  {
   "cell_type": "code",
   "execution_count": null,
   "metadata": {},
   "outputs": [],
   "source": [
    "#5 счастливый билет\n",
    "print ('Введите шестизначный номер билета')\n",
    "ticket=input()\n",
    "numbers=[int(n) for n in bilet]\n",
    "if sum(numbers [:3])==sum (numbers[-3:]):\n",
    "    print ('Постравляю! Вы обладатель счастливого билета!')\n",
    "else:\n",
    "    print ('Увы. Этот билет ничем не примечателен.')"
   ]
  },
  {
   "cell_type": "code",
   "execution_count": null,
   "metadata": {},
   "outputs": [],
   "source": []
  },
  {
   "cell_type": "code",
   "execution_count": null,
   "metadata": {},
   "outputs": [],
   "source": []
  },
  {
   "cell_type": "code",
   "execution_count": null,
   "metadata": {},
   "outputs": [],
   "source": []
  },
  {
   "cell_type": "code",
   "execution_count": null,
   "metadata": {},
   "outputs": [],
   "source": []
  }
 ],
 "metadata": {
  "kernelspec": {
   "display_name": "Python 3",
   "language": "python",
   "name": "python3"
  },
  "language_info": {
   "codemirror_mode": {
    "name": "ipython",
    "version": 3
   },
   "file_extension": ".py",
   "mimetype": "text/x-python",
   "name": "python",
   "nbconvert_exporter": "python",
   "pygments_lexer": "ipython3",
   "version": "3.7.4"
  }
 },
 "nbformat": 4,
 "nbformat_minor": 2
}
